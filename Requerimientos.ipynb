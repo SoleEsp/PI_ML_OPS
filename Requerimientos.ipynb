{
 "cells": [
  {
   "cell_type": "markdown",
   "metadata": {},
   "source": [
    "**TRANSFORMACIONES**"
   ]
  },
  {
   "cell_type": "code",
   "execution_count": 2,
   "metadata": {},
   "outputs": [],
   "source": [
    "import pandas as pd"
   ]
  },
  {
   "cell_type": "markdown",
   "metadata": {},
   "source": [
    "1- Generar campo **`id`**: Cada id se compondrá de la primera letra del nombre de la plataforma, seguido del show_id ya presente en los datasets (ejemplo para títulos de Amazon = **`as123`**)"
   ]
  },
  {
   "cell_type": "markdown",
   "metadata": {},
   "source": [
    "Primero cargamos los archivos .cvs como dataframe con pandas"
   ]
  },
  {
   "cell_type": "code",
   "execution_count": null,
   "metadata": {},
   "outputs": [],
   "source": [
    "df_amazon_prime = pd.read_csv('./dataset/amazon_prime_titles.csv',delimiter = ',',encoding = \"utf-8\")\n",
    "df_amazon_prime.head(10)"
   ]
  },
  {
   "cell_type": "code",
   "execution_count": null,
   "metadata": {},
   "outputs": [],
   "source": [
    "df_disney_plus = pd.read_csv('./dataset/disney_plus_titles.csv',delimiter= ',', encoding = \"utf-8\" )\n",
    "df_disney_plus.head(10)"
   ]
  },
  {
   "cell_type": "code",
   "execution_count": null,
   "metadata": {},
   "outputs": [],
   "source": [
    "df_hulu = pd.read_csv('./dataset/hulu_titles.csv',delimiter= ',', encoding = \"utf-8\" )\n",
    "df_hulu.head(10)"
   ]
  },
  {
   "cell_type": "code",
   "execution_count": null,
   "metadata": {},
   "outputs": [],
   "source": [
    "df_netflix = pd.read_csv('./dataset/netflix_titles.csv',delimiter= ',', encoding = \"utf-8\" )\n",
    "df_netflix.head(10)"
   ]
  },
  {
   "cell_type": "code",
   "execution_count": null,
   "metadata": {},
   "outputs": [],
   "source": [
    "df_rating1 = pd.read_csv('./dataset/rating/1.csv',delimiter = ',',encoding = \"utf-8\")\n",
    "df_rating1.head(10)"
   ]
  },
  {
   "cell_type": "code",
   "execution_count": null,
   "metadata": {},
   "outputs": [],
   "source": [
    "df_rating2 = pd.read_csv('./dataset/rating/2.csv',delimiter = ',',encoding = \"utf-8\")\n",
    "df_rating2.head(10)"
   ]
  },
  {
   "cell_type": "code",
   "execution_count": null,
   "metadata": {},
   "outputs": [],
   "source": [
    "df_rating3 = pd.read_csv('./dataset/rating/3.csv',delimiter = ',',encoding = \"utf-8\")\n",
    "df_rating3.head(10)"
   ]
  },
  {
   "cell_type": "code",
   "execution_count": null,
   "metadata": {},
   "outputs": [],
   "source": [
    "df_rating4 = pd.read_csv('./dataset/rating/4.csv',delimiter = ',',encoding = \"utf-8\")\n",
    "df_rating4.head(10)"
   ]
  },
  {
   "cell_type": "code",
   "execution_count": null,
   "metadata": {},
   "outputs": [],
   "source": [
    "df_rating5 = pd.read_csv('./dataset/rating/5.csv',delimiter = ',',encoding = \"utf-8\")\n",
    "df_rating5.head(10)"
   ]
  },
  {
   "cell_type": "code",
   "execution_count": null,
   "metadata": {},
   "outputs": [],
   "source": [
    "df_rating6 = pd.read_csv('./dataset/rating/6.csv',delimiter = ',',encoding = \"utf-8\")\n",
    "df_rating6.head(10)"
   ]
  },
  {
   "cell_type": "code",
   "execution_count": null,
   "metadata": {},
   "outputs": [],
   "source": [
    "df_rating7 = pd.read_csv('./dataset/rating/7.csv',delimiter = ',',encoding = \"utf-8\")\n",
    "df_rating7.head(10)"
   ]
  },
  {
   "cell_type": "code",
   "execution_count": null,
   "metadata": {},
   "outputs": [],
   "source": [
    "df_rating8 = pd.read_csv('./dataset/rating/8.csv',delimiter = ',',encoding = \"utf-8\")\n",
    "df_rating8.head(10)"
   ]
  },
  {
   "cell_type": "markdown",
   "metadata": {},
   "source": [
    "Generamos el campo id de cada dataframe de plataforma"
   ]
  },
  {
   "cell_type": "code",
   "execution_count": null,
   "metadata": {},
   "outputs": [],
   "source": [
    "df_amazon_prime.insert(loc=0, column='id', value='a' + df_amazon_prime['show_id'].astype(str))\n",
    "df_amazon_prime.head()"
   ]
  },
  {
   "cell_type": "code",
   "execution_count": null,
   "metadata": {},
   "outputs": [],
   "source": [
    "df_disney_plus.insert(loc=0, column='id', value='d' + df_disney_plus['show_id'].astype(str))\n",
    "df_disney_plus.head()"
   ]
  },
  {
   "cell_type": "code",
   "execution_count": null,
   "metadata": {},
   "outputs": [],
   "source": [
    "df_hulu.insert(loc=0, column='id', value='h' + df_hulu['show_id'].astype(str))\n",
    "df_hulu.head()"
   ]
  },
  {
   "cell_type": "code",
   "execution_count": null,
   "metadata": {},
   "outputs": [],
   "source": [
    "df_netflix.insert(loc=0, column='id', value='n' + df_netflix['show_id'].astype(str))\n",
    "df_netflix.head()"
   ]
  },
  {
   "cell_type": "markdown",
   "metadata": {},
   "source": [
    "2- Los valores nulos del campo rating deberán reemplazarse por el string “**`G`**” (corresponde al maturity rating: “general for all audiences”"
   ]
  },
  {
   "cell_type": "code",
   "execution_count": 19,
   "metadata": {},
   "outputs": [],
   "source": [
    "df_amazon_prime.fillna(value={'rating': 'G'}, inplace=True)"
   ]
  },
  {
   "cell_type": "code",
   "execution_count": 20,
   "metadata": {},
   "outputs": [],
   "source": [
    "df_disney_plus.fillna(value={'rating': 'G'}, inplace=True)"
   ]
  },
  {
   "cell_type": "code",
   "execution_count": 21,
   "metadata": {},
   "outputs": [],
   "source": [
    "df_hulu.fillna(value={'rating': 'G'}, inplace=True)"
   ]
  },
  {
   "cell_type": "code",
   "execution_count": 22,
   "metadata": {},
   "outputs": [],
   "source": [
    "df_netflix.fillna(value={'rating': 'G'}, inplace=True)"
   ]
  },
  {
   "cell_type": "code",
   "execution_count": null,
   "metadata": {},
   "outputs": [],
   "source": [
    "# Verificacion de nulos\n",
    "df_amazon_prime['rating'].isnull().sum()\n",
    "df_disney_plus['rating'].isnull().sum()\n",
    "df_hulu['rating'].isnull().sum()\n",
    "df_netflix['rating'].isnull().sum()"
   ]
  },
  {
   "cell_type": "markdown",
   "metadata": {},
   "source": [
    "3- De haber fechas, deberán tener el formato **`AAAA-mm-dd`**"
   ]
  },
  {
   "cell_type": "code",
   "execution_count": 23,
   "metadata": {},
   "outputs": [],
   "source": [
    "# se seleciona la columna del dataframe y con la funcion to_datetime cambiamos el formato\n",
    "# dentro del to_datetime()\n",
    "df_amazon_prime['date_added'] = pd.to_datetime(df_amazon_prime['date_added'].astype(str), format='%B %d, %Y')"
   ]
  },
  {
   "cell_type": "code",
   "execution_count": 24,
   "metadata": {},
   "outputs": [],
   "source": [
    "df_disney_plus['date_added'] = pd.to_datetime(df_disney_plus['date_added'].astype(str), format='%B %d, %Y')"
   ]
  },
  {
   "cell_type": "code",
   "execution_count": 25,
   "metadata": {},
   "outputs": [],
   "source": [
    "df_hulu['date_added'] = pd.to_datetime(df_hulu['date_added'].astype(str), format='%B %d, %Y')"
   ]
  },
  {
   "cell_type": "code",
   "execution_count": 26,
   "metadata": {},
   "outputs": [],
   "source": [
    "# antes de convertir al formato pedido se elimino el espacio en blanco de cada texto de la columna 'date_added'\n",
    "df_netflix['date_added'] = df_netflix['date_added'].str.lstrip() \n",
    "\n",
    "df_netflix['date_added'] = pd.to_datetime(df_netflix['date_added'].astype(str), format='%B %d, %Y')"
   ]
  },
  {
   "cell_type": "code",
   "execution_count": null,
   "metadata": {},
   "outputs": [],
   "source": [
    "df_rating1['timestamp'] = pd.to_datetime(df_rating1['timestamp'],unit='s').dt.strftime('%Y-%m-%d')\n",
    "df_rating1['timestamp'] = pd.to_datetime(df_rating1['timestamp'])\n",
    "df_rating1.head()"
   ]
  },
  {
   "cell_type": "code",
   "execution_count": null,
   "metadata": {},
   "outputs": [],
   "source": [
    "df_rating2['timestamp'] = pd.to_datetime(df_rating2['timestamp'],unit='s').dt.strftime('%Y-%m-%d')\n",
    "df_rating2['timestamp'] = pd.to_datetime(df_rating2['timestamp'])\n",
    "df_rating2.head()"
   ]
  },
  {
   "cell_type": "code",
   "execution_count": null,
   "metadata": {},
   "outputs": [],
   "source": [
    "df_rating3['timestamp'] = pd.to_datetime(df_rating3['timestamp'],unit='s').dt.strftime('%Y-%m-%d')\n",
    "df_rating3['timestamp'] = pd.to_datetime(df_rating3['timestamp'])\n",
    "df_rating3.head()"
   ]
  },
  {
   "cell_type": "code",
   "execution_count": null,
   "metadata": {},
   "outputs": [],
   "source": [
    "df_rating4['timestamp'] = pd.to_datetime(df_rating4['timestamp'],unit='s').dt.strftime('%Y-%m-%d')\n",
    "df_rating4['timestamp'] = pd.to_datetime(df_rating4['timestamp'])\n",
    "df_rating4.head()"
   ]
  },
  {
   "cell_type": "code",
   "execution_count": null,
   "metadata": {},
   "outputs": [],
   "source": [
    "df_rating5['timestamp'] = pd.to_datetime(df_rating5['timestamp'],unit='s').dt.strftime('%Y-%m-%d')\n",
    "df_rating5['timestamp'] = pd.to_datetime(df_rating5['timestamp'])\n",
    "df_rating5.head()"
   ]
  },
  {
   "cell_type": "code",
   "execution_count": null,
   "metadata": {},
   "outputs": [],
   "source": [
    "df_rating6['timestamp'] = pd.to_datetime(df_rating6['timestamp'],unit='s').dt.strftime('%Y-%m-%d')\n",
    "df_rating6['timestamp'] = pd.to_datetime(df_rating6['timestamp'])\n",
    "df_rating6.head()"
   ]
  },
  {
   "cell_type": "code",
   "execution_count": null,
   "metadata": {},
   "outputs": [],
   "source": [
    "df_rating7['timestamp'] = pd.to_datetime(df_rating7['timestamp'],unit='s').dt.strftime('%Y-%m-%d')\n",
    "df_rating7['timestamp'] = pd.to_datetime(df_rating7['timestamp'])\n",
    "df_rating7.head()"
   ]
  },
  {
   "cell_type": "code",
   "execution_count": null,
   "metadata": {},
   "outputs": [],
   "source": [
    "df_rating8['timestamp'] = pd.to_datetime(df_rating8['timestamp'],unit='s').dt.strftime('%Y-%m-%d')\n",
    "df_rating8['timestamp'] = pd.to_datetime(df_rating8['timestamp'])\n",
    "df_rating8.head()"
   ]
  },
  {
   "cell_type": "code",
   "execution_count": null,
   "metadata": {},
   "outputs": [],
   "source": [
    "#Verificacion de cambio de formato\n",
    "df_amazon_prime.head()\n",
    "#df_disney_plus.head()\n",
    "#df_hulu.head()\n",
    "#df_netflix.head()"
   ]
  },
  {
   "cell_type": "markdown",
   "metadata": {},
   "source": [
    "4- Los campos de texto deberán estar en **minúsculas**, sin excepciones"
   ]
  },
  {
   "cell_type": "code",
   "execution_count": null,
   "metadata": {},
   "outputs": [],
   "source": [
    "df_amazon_prime = df_amazon_prime.applymap(lambda x: x.lower() if type(x) == str else x)\n",
    "df_amazon_prime.head()"
   ]
  },
  {
   "cell_type": "code",
   "execution_count": null,
   "metadata": {},
   "outputs": [],
   "source": [
    "df_disney_plus = df_disney_plus.applymap(lambda x: x.lower() if type(x) == str else x)\n",
    "df_disney_plus.head()"
   ]
  },
  {
   "cell_type": "code",
   "execution_count": null,
   "metadata": {},
   "outputs": [],
   "source": [
    "df_hulu = df_hulu.applymap(lambda x: x.lower() if type(x) == str else x)\n",
    "df_hulu.head()"
   ]
  },
  {
   "cell_type": "code",
   "execution_count": null,
   "metadata": {},
   "outputs": [],
   "source": [
    "df_netflix = df_netflix.applymap(lambda x: x.lower() if type(x) == str else x)\n",
    "df_netflix.head()"
   ]
  },
  {
   "cell_type": "markdown",
   "metadata": {},
   "source": [
    "5- El campo ***duration*** debe convertirse en dos campos: **`duration_int`** y **`duration_type`**. El primero será un integer y el segundo un string indicando la unidad de medición de duración: min (minutos) o season (temporadas)\n"
   ]
  },
  {
   "cell_type": "code",
   "execution_count": null,
   "metadata": {},
   "outputs": [],
   "source": [
    "df_amazon_prime['duration_int'] = df_amazon_prime['duration'].str.extract('(\\d+)').astype(int)\n",
    "df_amazon_prime['duration_type'] = df_amazon_prime['duration'].str.extract('(\\D+)')\n",
    "df_amazon_prime['duration_type']= df_amazon_prime['duration_type'].str.strip()\n",
    "df_amazon_prime.head()"
   ]
  },
  {
   "cell_type": "code",
   "execution_count": null,
   "metadata": {},
   "outputs": [],
   "source": [
    "df_disney_plus['duration_int'] = df_disney_plus['duration'].str.extract('(\\d+)').astype(int)\n",
    "df_disney_plus['duration_type'] = df_disney_plus['duration'].str.extract('(\\D+)')\n",
    "df_disney_plus['duration_type']= df_disney_plus['duration_type'].str.strip()\n",
    "df_disney_plus.head()"
   ]
  },
  {
   "cell_type": "code",
   "execution_count": null,
   "metadata": {},
   "outputs": [],
   "source": [
    "df_hulu['duration_int'] = df_hulu['duration'].str.extract('(\\d+)').fillna(0).astype(int)\n",
    "df_hulu['duration_type'] = df_hulu['duration'].str.extract('(\\D+)').fillna('')\n",
    "df_hulu['duration_type']= df_hulu['duration_type'].str.strip()\n",
    "df_hulu.head()"
   ]
  },
  {
   "cell_type": "code",
   "execution_count": null,
   "metadata": {},
   "outputs": [],
   "source": [
    "df_netflix['duration_int'] = df_netflix['duration'].str.extract('(\\d+)').fillna(0).astype(int)\n",
    "df_netflix['duration_type'] = df_netflix['duration'].str.extract('(\\D+)').fillna('')\n",
    "df_netflix['duration_type']= df_netflix['duration_type'].str.strip()\n",
    "df_netflix.head()"
   ]
  },
  {
   "cell_type": "markdown",
   "metadata": {},
   "source": [
    "**DESARROLLO API**"
   ]
  },
  {
   "cell_type": "markdown",
   "metadata": {},
   "source": [
    "1- Película con mayor duración con filtros opcionales de AÑO, PLATAFORMA Y TIPO DE DURACIÓN. (la función debe llamarse get_max_duration(year, platform, duration_type))"
   ]
  },
  {
   "cell_type": "code",
   "execution_count": null,
   "metadata": {},
   "outputs": [],
   "source": [
    "def get_max_duration(year, platform, duration_type):\n",
    "    # diccionario de nombres de archivo CSV para cada plataforma\n",
    "    dataframe = {\n",
    "        'Netflix': df_netflix,\n",
    "        'Amazon': df_amazon_prime,\n",
    "        'Disney': df_disney_plus,\n",
    "        'Hulu': df_hulu\n",
    "    }\n",
    "\n",
    "    selected_df = dataframe[platform]\n",
    "    \n",
    "    selected_movies = selected_df.loc[(selected_df[\"type\"] == \"movie\") & (selected_df[\"release_year\"] == year) & (selected_df[\"duration_type\"] == duration_type)]\n",
    "    \n",
    "    max_duration_movie = selected_movies.loc[selected_movies[\"duration_int\"].idxmax()]\n",
    "\n",
    "    return max_duration_movie\n",
    "\n",
    "get_max_duration(2018,'Hulu','min')"
   ]
  },
  {
   "cell_type": "markdown",
   "metadata": {},
   "source": [
    "2- Cantidad de películas por plataforma con un puntaje mayor a XX en determinado año (la función debe llamarse get_score_count(platform, scored, year))\n"
   ]
  },
  {
   "cell_type": "code",
   "execution_count": null,
   "metadata": {},
   "outputs": [],
   "source": [
    "df_ratings = pd.concat([df_rating1, df_rating2, df_rating3, df_rating4,df_rating5, df_rating6,df_rating7, df_rating8], ignore_index=True)"
   ]
  },
  {
   "cell_type": "code",
   "execution_count": 114,
   "metadata": {},
   "outputs": [
    {
     "data": {
      "text/html": [
       "<div>\n",
       "<style scoped>\n",
       "    .dataframe tbody tr th:only-of-type {\n",
       "        vertical-align: middle;\n",
       "    }\n",
       "\n",
       "    .dataframe tbody tr th {\n",
       "        vertical-align: top;\n",
       "    }\n",
       "\n",
       "    .dataframe thead th {\n",
       "        text-align: right;\n",
       "    }\n",
       "</style>\n",
       "<table border=\"1\" class=\"dataframe\">\n",
       "  <thead>\n",
       "    <tr style=\"text-align: right;\">\n",
       "      <th></th>\n",
       "      <th>userId</th>\n",
       "      <th>rating</th>\n",
       "      <th>timestamp</th>\n",
       "      <th>movieId</th>\n",
       "    </tr>\n",
       "  </thead>\n",
       "  <tbody>\n",
       "    <tr>\n",
       "      <th>0</th>\n",
       "      <td>1</td>\n",
       "      <td>1.0</td>\n",
       "      <td>2015-03-09</td>\n",
       "      <td>as680</td>\n",
       "    </tr>\n",
       "    <tr>\n",
       "      <th>1</th>\n",
       "      <td>1</td>\n",
       "      <td>4.5</td>\n",
       "      <td>2015-03-09</td>\n",
       "      <td>ns2186</td>\n",
       "    </tr>\n",
       "    <tr>\n",
       "      <th>2</th>\n",
       "      <td>1</td>\n",
       "      <td>5.0</td>\n",
       "      <td>2015-03-09</td>\n",
       "      <td>hs2381</td>\n",
       "    </tr>\n",
       "    <tr>\n",
       "      <th>3</th>\n",
       "      <td>1</td>\n",
       "      <td>5.0</td>\n",
       "      <td>2015-03-09</td>\n",
       "      <td>ns3663</td>\n",
       "    </tr>\n",
       "    <tr>\n",
       "      <th>4</th>\n",
       "      <td>1</td>\n",
       "      <td>5.0</td>\n",
       "      <td>2015-03-09</td>\n",
       "      <td>as9500</td>\n",
       "    </tr>\n",
       "    <tr>\n",
       "      <th>...</th>\n",
       "      <td>...</td>\n",
       "      <td>...</td>\n",
       "      <td>...</td>\n",
       "      <td>...</td>\n",
       "    </tr>\n",
       "    <tr>\n",
       "      <th>1499995</th>\n",
       "      <td>15424</td>\n",
       "      <td>4.0</td>\n",
       "      <td>2013-06-02</td>\n",
       "      <td>as8698</td>\n",
       "    </tr>\n",
       "    <tr>\n",
       "      <th>1499996</th>\n",
       "      <td>15424</td>\n",
       "      <td>3.5</td>\n",
       "      <td>2013-05-26</td>\n",
       "      <td>as3663</td>\n",
       "    </tr>\n",
       "    <tr>\n",
       "      <th>1499997</th>\n",
       "      <td>15424</td>\n",
       "      <td>3.0</td>\n",
       "      <td>2013-06-29</td>\n",
       "      <td>as1325</td>\n",
       "    </tr>\n",
       "    <tr>\n",
       "      <th>1499998</th>\n",
       "      <td>15424</td>\n",
       "      <td>3.5</td>\n",
       "      <td>2013-06-29</td>\n",
       "      <td>ns4446</td>\n",
       "    </tr>\n",
       "    <tr>\n",
       "      <th>1499999</th>\n",
       "      <td>15424</td>\n",
       "      <td>3.5</td>\n",
       "      <td>2013-05-26</td>\n",
       "      <td>hs2569</td>\n",
       "    </tr>\n",
       "  </tbody>\n",
       "</table>\n",
       "<p>1500000 rows × 4 columns</p>\n",
       "</div>"
      ],
      "text/plain": [
       "         userId  rating  timestamp movieId\n",
       "0             1     1.0 2015-03-09   as680\n",
       "1             1     4.5 2015-03-09  ns2186\n",
       "2             1     5.0 2015-03-09  hs2381\n",
       "3             1     5.0 2015-03-09  ns3663\n",
       "4             1     5.0 2015-03-09  as9500\n",
       "...         ...     ...        ...     ...\n",
       "1499995   15424     4.0 2013-06-02  as8698\n",
       "1499996   15424     3.5 2013-05-26  as3663\n",
       "1499997   15424     3.0 2013-06-29  as1325\n",
       "1499998   15424     3.5 2013-06-29  ns4446\n",
       "1499999   15424     3.5 2013-05-26  hs2569\n",
       "\n",
       "[1500000 rows x 4 columns]"
      ]
     },
     "execution_count": 114,
     "metadata": {},
     "output_type": "execute_result"
    }
   ],
   "source": [
    "df_rating1"
   ]
  },
  {
   "cell_type": "code",
   "execution_count": 113,
   "metadata": {},
   "outputs": [
    {
     "data": {
      "text/html": [
       "<div>\n",
       "<style scoped>\n",
       "    .dataframe tbody tr th:only-of-type {\n",
       "        vertical-align: middle;\n",
       "    }\n",
       "\n",
       "    .dataframe tbody tr th {\n",
       "        vertical-align: top;\n",
       "    }\n",
       "\n",
       "    .dataframe thead th {\n",
       "        text-align: right;\n",
       "    }\n",
       "</style>\n",
       "<table border=\"1\" class=\"dataframe\">\n",
       "  <thead>\n",
       "    <tr style=\"text-align: right;\">\n",
       "      <th></th>\n",
       "      <th>id</th>\n",
       "      <th>show_id</th>\n",
       "      <th>type</th>\n",
       "      <th>title</th>\n",
       "      <th>director</th>\n",
       "      <th>cast</th>\n",
       "      <th>country</th>\n",
       "      <th>date_added</th>\n",
       "      <th>release_year</th>\n",
       "      <th>rating</th>\n",
       "      <th>duration</th>\n",
       "      <th>listed_in</th>\n",
       "      <th>description</th>\n",
       "      <th>duration_int</th>\n",
       "      <th>duration_type</th>\n",
       "    </tr>\n",
       "  </thead>\n",
       "  <tbody>\n",
       "    <tr>\n",
       "      <th>0</th>\n",
       "      <td>as1</td>\n",
       "      <td>s1</td>\n",
       "      <td>movie</td>\n",
       "      <td>the grand seduction</td>\n",
       "      <td>don mckellar</td>\n",
       "      <td>brendan gleeson, taylor kitsch, gordon pinsent</td>\n",
       "      <td>canada</td>\n",
       "      <td>2021-03-30</td>\n",
       "      <td>2014</td>\n",
       "      <td>g</td>\n",
       "      <td>113 min</td>\n",
       "      <td>comedy, drama</td>\n",
       "      <td>a small fishing village must procure a local d...</td>\n",
       "      <td>113</td>\n",
       "      <td>min</td>\n",
       "    </tr>\n",
       "    <tr>\n",
       "      <th>1</th>\n",
       "      <td>as2</td>\n",
       "      <td>s2</td>\n",
       "      <td>movie</td>\n",
       "      <td>take care good night</td>\n",
       "      <td>girish joshi</td>\n",
       "      <td>mahesh manjrekar, abhay mahajan, sachin khedekar</td>\n",
       "      <td>india</td>\n",
       "      <td>2021-03-30</td>\n",
       "      <td>2018</td>\n",
       "      <td>13+</td>\n",
       "      <td>110 min</td>\n",
       "      <td>drama, international</td>\n",
       "      <td>a metro family decides to fight a cyber crimin...</td>\n",
       "      <td>110</td>\n",
       "      <td>min</td>\n",
       "    </tr>\n",
       "    <tr>\n",
       "      <th>2</th>\n",
       "      <td>as3</td>\n",
       "      <td>s3</td>\n",
       "      <td>movie</td>\n",
       "      <td>secrets of deception</td>\n",
       "      <td>josh webber</td>\n",
       "      <td>tom sizemore, lorenzo lamas, robert lasardo, r...</td>\n",
       "      <td>united states</td>\n",
       "      <td>2021-03-30</td>\n",
       "      <td>2017</td>\n",
       "      <td>g</td>\n",
       "      <td>74 min</td>\n",
       "      <td>action, drama, suspense</td>\n",
       "      <td>after a man discovers his wife is cheating on ...</td>\n",
       "      <td>74</td>\n",
       "      <td>min</td>\n",
       "    </tr>\n",
       "    <tr>\n",
       "      <th>3</th>\n",
       "      <td>as4</td>\n",
       "      <td>s4</td>\n",
       "      <td>movie</td>\n",
       "      <td>pink: staying true</td>\n",
       "      <td>sonia anderson</td>\n",
       "      <td>interviews with: pink, adele, beyoncé, britney...</td>\n",
       "      <td>united states</td>\n",
       "      <td>2021-03-30</td>\n",
       "      <td>2014</td>\n",
       "      <td>g</td>\n",
       "      <td>69 min</td>\n",
       "      <td>documentary</td>\n",
       "      <td>pink breaks the mold once again, bringing her ...</td>\n",
       "      <td>69</td>\n",
       "      <td>min</td>\n",
       "    </tr>\n",
       "    <tr>\n",
       "      <th>4</th>\n",
       "      <td>as5</td>\n",
       "      <td>s5</td>\n",
       "      <td>movie</td>\n",
       "      <td>monster maker</td>\n",
       "      <td>giles foster</td>\n",
       "      <td>harry dean stanton, kieran o'brien, george cos...</td>\n",
       "      <td>united kingdom</td>\n",
       "      <td>2021-03-30</td>\n",
       "      <td>1989</td>\n",
       "      <td>g</td>\n",
       "      <td>45 min</td>\n",
       "      <td>drama, fantasy</td>\n",
       "      <td>teenage matt banting wants to work with a famo...</td>\n",
       "      <td>45</td>\n",
       "      <td>min</td>\n",
       "    </tr>\n",
       "    <tr>\n",
       "      <th>...</th>\n",
       "      <td>...</td>\n",
       "      <td>...</td>\n",
       "      <td>...</td>\n",
       "      <td>...</td>\n",
       "      <td>...</td>\n",
       "      <td>...</td>\n",
       "      <td>...</td>\n",
       "      <td>...</td>\n",
       "      <td>...</td>\n",
       "      <td>...</td>\n",
       "      <td>...</td>\n",
       "      <td>...</td>\n",
       "      <td>...</td>\n",
       "      <td>...</td>\n",
       "      <td>...</td>\n",
       "    </tr>\n",
       "    <tr>\n",
       "      <th>9663</th>\n",
       "      <td>as9664</td>\n",
       "      <td>s9664</td>\n",
       "      <td>movie</td>\n",
       "      <td>pride of the bowery</td>\n",
       "      <td>joseph h. lewis</td>\n",
       "      <td>leo gorcey, bobby jordan</td>\n",
       "      <td>NaN</td>\n",
       "      <td>NaT</td>\n",
       "      <td>1940</td>\n",
       "      <td>7+</td>\n",
       "      <td>60 min</td>\n",
       "      <td>comedy</td>\n",
       "      <td>new york city street principles get an east si...</td>\n",
       "      <td>60</td>\n",
       "      <td>min</td>\n",
       "    </tr>\n",
       "    <tr>\n",
       "      <th>9664</th>\n",
       "      <td>as9665</td>\n",
       "      <td>s9665</td>\n",
       "      <td>tv show</td>\n",
       "      <td>planet patrol</td>\n",
       "      <td>NaN</td>\n",
       "      <td>dick vosburgh, ronnie stevens, libby morris, m...</td>\n",
       "      <td>NaN</td>\n",
       "      <td>NaT</td>\n",
       "      <td>2018</td>\n",
       "      <td>13+</td>\n",
       "      <td>4 seasons</td>\n",
       "      <td>tv shows</td>\n",
       "      <td>this is earth, 2100ad - and these are the adve...</td>\n",
       "      <td>4</td>\n",
       "      <td>seasons</td>\n",
       "    </tr>\n",
       "    <tr>\n",
       "      <th>9665</th>\n",
       "      <td>as9666</td>\n",
       "      <td>s9666</td>\n",
       "      <td>movie</td>\n",
       "      <td>outpost</td>\n",
       "      <td>steve barker</td>\n",
       "      <td>ray stevenson, julian wadham, richard brake, m...</td>\n",
       "      <td>NaN</td>\n",
       "      <td>NaT</td>\n",
       "      <td>2008</td>\n",
       "      <td>r</td>\n",
       "      <td>90 min</td>\n",
       "      <td>action</td>\n",
       "      <td>in war-torn eastern europe, a world-weary grou...</td>\n",
       "      <td>90</td>\n",
       "      <td>min</td>\n",
       "    </tr>\n",
       "    <tr>\n",
       "      <th>9666</th>\n",
       "      <td>as9667</td>\n",
       "      <td>s9667</td>\n",
       "      <td>tv show</td>\n",
       "      <td>maradona: blessed dream</td>\n",
       "      <td>NaN</td>\n",
       "      <td>esteban recagno, ezequiel stremiz, luciano vit...</td>\n",
       "      <td>NaN</td>\n",
       "      <td>NaT</td>\n",
       "      <td>2021</td>\n",
       "      <td>tv-ma</td>\n",
       "      <td>1 season</td>\n",
       "      <td>drama, sports</td>\n",
       "      <td>the series tells the story of diego maradona, ...</td>\n",
       "      <td>1</td>\n",
       "      <td>season</td>\n",
       "    </tr>\n",
       "    <tr>\n",
       "      <th>9667</th>\n",
       "      <td>as9668</td>\n",
       "      <td>s9668</td>\n",
       "      <td>movie</td>\n",
       "      <td>harry brown</td>\n",
       "      <td>daniel barber</td>\n",
       "      <td>michael caine, emily mortimer, joseph gilgun, ...</td>\n",
       "      <td>NaN</td>\n",
       "      <td>NaT</td>\n",
       "      <td>2010</td>\n",
       "      <td>r</td>\n",
       "      <td>103 min</td>\n",
       "      <td>action, drama, suspense</td>\n",
       "      <td>harry brown, starring two-time academy award w...</td>\n",
       "      <td>103</td>\n",
       "      <td>min</td>\n",
       "    </tr>\n",
       "  </tbody>\n",
       "</table>\n",
       "<p>9668 rows × 15 columns</p>\n",
       "</div>"
      ],
      "text/plain": [
       "          id show_id     type                    title         director  \\\n",
       "0        as1      s1    movie      the grand seduction     don mckellar   \n",
       "1        as2      s2    movie     take care good night     girish joshi   \n",
       "2        as3      s3    movie     secrets of deception      josh webber   \n",
       "3        as4      s4    movie       pink: staying true   sonia anderson   \n",
       "4        as5      s5    movie            monster maker     giles foster   \n",
       "...      ...     ...      ...                      ...              ...   \n",
       "9663  as9664   s9664    movie      pride of the bowery  joseph h. lewis   \n",
       "9664  as9665   s9665  tv show            planet patrol              NaN   \n",
       "9665  as9666   s9666    movie                  outpost     steve barker   \n",
       "9666  as9667   s9667  tv show  maradona: blessed dream              NaN   \n",
       "9667  as9668   s9668    movie              harry brown    daniel barber   \n",
       "\n",
       "                                                   cast         country  \\\n",
       "0        brendan gleeson, taylor kitsch, gordon pinsent          canada   \n",
       "1      mahesh manjrekar, abhay mahajan, sachin khedekar           india   \n",
       "2     tom sizemore, lorenzo lamas, robert lasardo, r...   united states   \n",
       "3     interviews with: pink, adele, beyoncé, britney...   united states   \n",
       "4     harry dean stanton, kieran o'brien, george cos...  united kingdom   \n",
       "...                                                 ...             ...   \n",
       "9663                           leo gorcey, bobby jordan             NaN   \n",
       "9664  dick vosburgh, ronnie stevens, libby morris, m...             NaN   \n",
       "9665  ray stevenson, julian wadham, richard brake, m...             NaN   \n",
       "9666  esteban recagno, ezequiel stremiz, luciano vit...             NaN   \n",
       "9667  michael caine, emily mortimer, joseph gilgun, ...             NaN   \n",
       "\n",
       "     date_added  release_year rating   duration                listed_in  \\\n",
       "0    2021-03-30          2014      g    113 min            comedy, drama   \n",
       "1    2021-03-30          2018    13+    110 min     drama, international   \n",
       "2    2021-03-30          2017      g     74 min  action, drama, suspense   \n",
       "3    2021-03-30          2014      g     69 min              documentary   \n",
       "4    2021-03-30          1989      g     45 min           drama, fantasy   \n",
       "...         ...           ...    ...        ...                      ...   \n",
       "9663        NaT          1940     7+     60 min                   comedy   \n",
       "9664        NaT          2018    13+  4 seasons                 tv shows   \n",
       "9665        NaT          2008      r     90 min                   action   \n",
       "9666        NaT          2021  tv-ma   1 season            drama, sports   \n",
       "9667        NaT          2010      r    103 min  action, drama, suspense   \n",
       "\n",
       "                                            description  duration_int  \\\n",
       "0     a small fishing village must procure a local d...           113   \n",
       "1     a metro family decides to fight a cyber crimin...           110   \n",
       "2     after a man discovers his wife is cheating on ...            74   \n",
       "3     pink breaks the mold once again, bringing her ...            69   \n",
       "4     teenage matt banting wants to work with a famo...            45   \n",
       "...                                                 ...           ...   \n",
       "9663  new york city street principles get an east si...            60   \n",
       "9664  this is earth, 2100ad - and these are the adve...             4   \n",
       "9665  in war-torn eastern europe, a world-weary grou...            90   \n",
       "9666  the series tells the story of diego maradona, ...             1   \n",
       "9667  harry brown, starring two-time academy award w...           103   \n",
       "\n",
       "     duration_type  \n",
       "0              min  \n",
       "1              min  \n",
       "2              min  \n",
       "3              min  \n",
       "4              min  \n",
       "...            ...  \n",
       "9663           min  \n",
       "9664       seasons  \n",
       "9665           min  \n",
       "9666        season  \n",
       "9667           min  \n",
       "\n",
       "[9668 rows x 15 columns]"
      ]
     },
     "execution_count": 113,
     "metadata": {},
     "output_type": "execute_result"
    }
   ],
   "source": [
    "df_amazon_prime"
   ]
  },
  {
   "cell_type": "code",
   "execution_count": null,
   "metadata": {},
   "outputs": [],
   "source": [
    "/get_count/{plat}/{keyword}' API"
   ]
  }
 ],
 "metadata": {
  "kernelspec": {
   "display_name": "Python 3.10.8 64-bit",
   "language": "python",
   "name": "python3"
  },
  "language_info": {
   "codemirror_mode": {
    "name": "ipython",
    "version": 3
   },
   "file_extension": ".py",
   "mimetype": "text/x-python",
   "name": "python",
   "nbconvert_exporter": "python",
   "pygments_lexer": "ipython3",
   "version": "3.10.8"
  },
  "orig_nbformat": 4,
  "vscode": {
   "interpreter": {
    "hash": "84b86b11baa98e9a5bbcafa47a9ec1d554dfb6b313b7cee3eab0f92862da9eaf"
   }
  }
 },
 "nbformat": 4,
 "nbformat_minor": 2
}
