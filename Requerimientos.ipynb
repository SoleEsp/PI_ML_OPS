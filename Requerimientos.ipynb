{
 "cells": [
  {
   "cell_type": "markdown",
   "metadata": {},
   "source": [
    "TRANSFORMACIONES"
   ]
  },
  {
   "cell_type": "code",
   "execution_count": 1,
   "metadata": {},
   "outputs": [],
   "source": [
    "import pandas as pd"
   ]
  },
  {
   "cell_type": "markdown",
   "metadata": {},
   "source": [
    "1- Generar campo **`id`**: Cada id se compondrá de la primera letra del nombre de la plataforma, seguido del show_id ya presente en los datasets (ejemplo para títulos de Amazon = **`as123`**)"
   ]
  },
  {
   "cell_type": "markdown",
   "metadata": {},
   "source": [
    "Primero cargamos los archivos .cvs como dataframe con pandas"
   ]
  },
  {
   "cell_type": "code",
   "execution_count": null,
   "metadata": {},
   "outputs": [],
   "source": [
    "df_amazon_prime = pd.read_csv('./dataset/amazon_prime_titles.csv',delimiter = ',',encoding = \"utf-8\")\n",
    "df_amazon_prime.head(10)"
   ]
  },
  {
   "cell_type": "code",
   "execution_count": null,
   "metadata": {},
   "outputs": [],
   "source": [
    "df_disney_plus = pd.read_csv('./dataset/disney_plus_titles.csv',delimiter= ',', encoding = \"utf-8\" )\n",
    "df_disney_plus.head(10)"
   ]
  },
  {
   "cell_type": "code",
   "execution_count": null,
   "metadata": {},
   "outputs": [],
   "source": [
    "df_hulu = pd.read_csv('./dataset/hulu_titles.csv',delimiter= ',', encoding = \"utf-8\" )\n",
    "df_hulu.head(10)"
   ]
  },
  {
   "cell_type": "code",
   "execution_count": null,
   "metadata": {},
   "outputs": [],
   "source": [
    "df_netflix = pd.read_csv('./dataset/netflix_titles.csv',delimiter= ',', encoding = \"utf-8\" )\n",
    "df_netflix.head(10)"
   ]
  },
  {
   "cell_type": "markdown",
   "metadata": {},
   "source": [
    "Generamos el campo id de cada dataframe de plataforma"
   ]
  },
  {
   "cell_type": "code",
   "execution_count": null,
   "metadata": {},
   "outputs": [],
   "source": [
    "df_amazon_prime.insert(loc=0, column='id', value='a' + df_amazon_prime['show_id'].astype(str))\n",
    "df_amazon_prime.head()"
   ]
  },
  {
   "cell_type": "code",
   "execution_count": null,
   "metadata": {},
   "outputs": [],
   "source": [
    "df_disney_plus.insert(loc=0, column='id', value='d' + df_disney_plus['show_id'].astype(str))\n",
    "df_disney_plus.head()"
   ]
  },
  {
   "cell_type": "code",
   "execution_count": null,
   "metadata": {},
   "outputs": [],
   "source": [
    "df_hulu.insert(loc=0, column='id', value='h' + df_hulu['show_id'].astype(str))\n",
    "df_hulu.head()"
   ]
  },
  {
   "cell_type": "code",
   "execution_count": null,
   "metadata": {},
   "outputs": [],
   "source": [
    "df_netflix.insert(loc=0, column='id', value='n' + df_netflix['show_id'].astype(str))\n",
    "df_netflix.head()"
   ]
  },
  {
   "cell_type": "markdown",
   "metadata": {},
   "source": [
    "2- Los valores nulos del campo rating deberán reemplazarse por el string “**`G`**” (corresponde al maturity rating: “general for all audiences”"
   ]
  },
  {
   "cell_type": "code",
   "execution_count": 58,
   "metadata": {},
   "outputs": [],
   "source": [
    "df_amazon_prime.fillna(value={'rating': 'G'}, inplace=True)"
   ]
  },
  {
   "cell_type": "code",
   "execution_count": 38,
   "metadata": {},
   "outputs": [],
   "source": [
    "df_disney_plus.fillna(value={'rating': 'G'}, inplace=True)"
   ]
  },
  {
   "cell_type": "code",
   "execution_count": 41,
   "metadata": {},
   "outputs": [],
   "source": [
    "df_hulu.fillna(value={'rating': 'G'}, inplace=True)"
   ]
  },
  {
   "cell_type": "code",
   "execution_count": 44,
   "metadata": {},
   "outputs": [],
   "source": [
    "df_netflix.fillna(value={'rating': 'G'}, inplace=True)"
   ]
  },
  {
   "cell_type": "code",
   "execution_count": null,
   "metadata": {},
   "outputs": [],
   "source": [
    "# Verificacion de nulos\n",
    "df_amazon_prime['rating'].isnull().sum()\n",
    "df_disney_plus['rating'].isnull().sum()\n",
    "df_hulu['rating'].isnull().sum()\n",
    "df_netflix['rating'].isnull().sum()"
   ]
  },
  {
   "cell_type": "markdown",
   "metadata": {},
   "source": [
    "3- De haber fechas, deberán tener el formato **`AAAA-mm-dd`**"
   ]
  },
  {
   "cell_type": "code",
   "execution_count": 61,
   "metadata": {},
   "outputs": [],
   "source": [
    "df_amazon_prime['date_added'] = pd.to_datetime(df_amazon_prime['date_added'].astype(str), format='%B %d, %Y')"
   ]
  },
  {
   "cell_type": "code",
   "execution_count": 64,
   "metadata": {},
   "outputs": [],
   "source": [
    "df_disney_plus['date_added'] = pd.to_datetime(df_disney_plus['date_added'].astype(str), format='%B %d, %Y')"
   ]
  },
  {
   "cell_type": "code",
   "execution_count": 65,
   "metadata": {},
   "outputs": [],
   "source": [
    "df_hulu['date_added'] = pd.to_datetime(df_hulu['date_added'].astype(str), format='%B %d, %Y')"
   ]
  },
  {
   "cell_type": "code",
   "execution_count": 82,
   "metadata": {},
   "outputs": [],
   "source": [
    "# antes de convertir al formato pedido se elimino el espacio en blanco de cada texto de la columna 'date_added'\n",
    "df_netflix['date_added'] = df_netflix['date_added'].str.lstrip() \n",
    "\n",
    "df_netflix['date_added'] = pd.to_datetime(df_netflix['date_added'].astype(str), format='%B %d, %Y')"
   ]
  },
  {
   "cell_type": "code",
   "execution_count": null,
   "metadata": {},
   "outputs": [],
   "source": [
    "#Verificacion de cambio de formato\n",
    "df_amazon_prime.head()\n",
    "df_disney_plus.head()\n",
    "df_hulu.head()\n",
    "df_netflix.head()"
   ]
  },
  {
   "cell_type": "markdown",
   "metadata": {},
   "source": [
    "4- Los campos de texto deberán estar en **minúsculas**, sin excepciones"
   ]
  },
  {
   "cell_type": "code",
   "execution_count": null,
   "metadata": {},
   "outputs": [],
   "source": [
    "# sdf"
   ]
  }
 ],
 "metadata": {
  "kernelspec": {
   "display_name": "Python 3.10.8 64-bit",
   "language": "python",
   "name": "python3"
  },
  "language_info": {
   "codemirror_mode": {
    "name": "ipython",
    "version": 3
   },
   "file_extension": ".py",
   "mimetype": "text/x-python",
   "name": "python",
   "nbconvert_exporter": "python",
   "pygments_lexer": "ipython3",
   "version": "3.10.8"
  },
  "orig_nbformat": 4,
  "vscode": {
   "interpreter": {
    "hash": "84b86b11baa98e9a5bbcafa47a9ec1d554dfb6b313b7cee3eab0f92862da9eaf"
   }
  }
 },
 "nbformat": 4,
 "nbformat_minor": 2
}
