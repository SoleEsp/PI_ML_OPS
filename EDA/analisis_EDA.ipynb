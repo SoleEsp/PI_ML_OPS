{
 "cells": [
  {
   "cell_type": "markdown",
   "metadata": {},
   "source": [
    "**`Análisis exploratorio de los datos`**: _(Exploratory Data Analysis-EDA)_"
   ]
  },
  {
   "cell_type": "markdown",
   "metadata": {},
   "source": [
    "Primero importamos las librerias que  vamos a necesitar"
   ]
  },
  {
   "cell_type": "code",
   "execution_count": 2,
   "metadata": {},
   "outputs": [],
   "source": [
    "import pandas as pd\n",
    "import matplotlib.pyplot as plt"
   ]
  },
  {
   "cell_type": "markdown",
   "metadata": {},
   "source": [
    "Cargamos los archivos .csv a los que ya se les aplico las transformaciones"
   ]
  },
  {
   "cell_type": "code",
   "execution_count": 3,
   "metadata": {},
   "outputs": [],
   "source": [
    "df_amazon_prime = pd.read_csv('../dataset_ETL/amazon_prime_ETL.csv', delimiter = ',',encoding = \"utf-8\")\n",
    "df_disney_plus = pd.read_csv('../dataset_ETL/disney_plus_ETL.csv',delimiter= ',', encoding = \"utf-8\" )\n",
    "df_hulu = pd.read_csv('../dataset_ETL/hulu_ETL.csv',delimiter= ',', encoding = \"utf-8\" )\n",
    "df_netflix = pd.read_csv('../dataset_ETL/netflix_ETL.csv',delimiter= ',', encoding = \"utf-8\" )\n",
    "df_ratings = pd.read_parquet('../dataset_ETL/ratings_ETL.csv')#, delimiter=',', encoding= \"utf-8\")"
   ]
  },
  {
   "cell_type": "markdown",
   "metadata": {},
   "source": [
    "**Se corre un sample en cada dataframe para ver que tipo de datos hay**"
   ]
  },
  {
   "cell_type": "code",
   "execution_count": null,
   "metadata": {},
   "outputs": [],
   "source": [
    "df_amazon_prime.sample(20)"
   ]
  },
  {
   "cell_type": "code",
   "execution_count": null,
   "metadata": {},
   "outputs": [],
   "source": [
    "df_disney_plus.sample(20)"
   ]
  },
  {
   "cell_type": "code",
   "execution_count": null,
   "metadata": {},
   "outputs": [],
   "source": [
    "df_hulu.sample(20)"
   ]
  },
  {
   "cell_type": "code",
   "execution_count": null,
   "metadata": {},
   "outputs": [],
   "source": [
    "df_netflix.sample(20)"
   ]
  },
  {
   "cell_type": "code",
   "execution_count": null,
   "metadata": {},
   "outputs": [],
   "source": [
    "df_ratings.sample(20)"
   ]
  },
  {
   "cell_type": "markdown",
   "metadata": {},
   "source": [
    "Observamos la informacion detallada de cada dataframe"
   ]
  },
  {
   "cell_type": "code",
   "execution_count": null,
   "metadata": {},
   "outputs": [],
   "source": [
    "df_amazon_prime.info()"
   ]
  },
  {
   "cell_type": "code",
   "execution_count": null,
   "metadata": {},
   "outputs": [],
   "source": [
    "df_disney_plus.info()"
   ]
  },
  {
   "cell_type": "code",
   "execution_count": null,
   "metadata": {},
   "outputs": [],
   "source": [
    "df_hulu.info()"
   ]
  },
  {
   "cell_type": "code",
   "execution_count": null,
   "metadata": {},
   "outputs": [],
   "source": [
    "df_netflix.info()"
   ]
  },
  {
   "cell_type": "code",
   "execution_count": 15,
   "metadata": {},
   "outputs": [
    {
     "name": "stdout",
     "output_type": "stream",
     "text": [
      "<class 'pandas.core.frame.DataFrame'>\n",
      "RangeIndex: 11024289 entries, 0 to 11024288\n",
      "Data columns (total 5 columns):\n",
      " #   Column     Dtype         \n",
      "---  ------     -----         \n",
      " 0   userid     int64         \n",
      " 1   scored     float64       \n",
      " 2   timestamp  datetime64[ns]\n",
      " 3   movieid    object        \n",
      " 4   scoreds    float64       \n",
      "dtypes: datetime64[ns](1), float64(2), int64(1), object(1)\n",
      "memory usage: 420.5+ MB\n"
     ]
    }
   ],
   "source": [
    "df_ratings.info()"
   ]
  },
  {
   "cell_type": "markdown",
   "metadata": {},
   "source": [
    "Se analizaran los valores faltantes"
   ]
  },
  {
   "cell_type": "code",
   "execution_count": 10,
   "metadata": {},
   "outputs": [
    {
     "data": {
      "text/plain": [
       "show_id             0\n",
       "type                0\n",
       "title               0\n",
       "director         2082\n",
       "cast             1233\n",
       "country          8996\n",
       "date_added       9513\n",
       "release_year        0\n",
       "rating              0\n",
       "listed_in           0\n",
       "description         0\n",
       "id                  0\n",
       "duration_int        0\n",
       "duration_type       0\n",
       "dtype: int64"
      ]
     },
     "execution_count": 10,
     "metadata": {},
     "output_type": "execute_result"
    }
   ],
   "source": [
    "df_amazon_prime.isnull().sum()"
   ]
  },
  {
   "cell_type": "code",
   "execution_count": 12,
   "metadata": {},
   "outputs": [
    {
     "data": {
      "text/plain": [
       "show_id            0\n",
       "type               0\n",
       "title              0\n",
       "director         473\n",
       "cast             190\n",
       "country          219\n",
       "date_added         3\n",
       "release_year       0\n",
       "rating             0\n",
       "listed_in          0\n",
       "description        0\n",
       "id                 0\n",
       "duration_int       0\n",
       "duration_type      0\n",
       "dtype: int64"
      ]
     },
     "execution_count": 12,
     "metadata": {},
     "output_type": "execute_result"
    }
   ],
   "source": [
    "df_disney_plus.isnull().sum()"
   ]
  },
  {
   "cell_type": "code",
   "execution_count": 11,
   "metadata": {},
   "outputs": [
    {
     "data": {
      "text/plain": [
       "show_id             0\n",
       "type                0\n",
       "title               0\n",
       "director         3070\n",
       "cast             3073\n",
       "country          1453\n",
       "date_added         28\n",
       "release_year        0\n",
       "rating              0\n",
       "listed_in           0\n",
       "description         4\n",
       "id                  0\n",
       "duration_int        0\n",
       "duration_type     479\n",
       "dtype: int64"
      ]
     },
     "execution_count": 11,
     "metadata": {},
     "output_type": "execute_result"
    }
   ],
   "source": [
    "df_hulu.isnull().sum()"
   ]
  },
  {
   "cell_type": "code",
   "execution_count": 13,
   "metadata": {},
   "outputs": [
    {
     "data": {
      "text/plain": [
       "show_id             0\n",
       "type                0\n",
       "title               0\n",
       "director         2634\n",
       "cast              825\n",
       "country           831\n",
       "date_added         10\n",
       "release_year        0\n",
       "rating              0\n",
       "listed_in           0\n",
       "description         0\n",
       "id                  0\n",
       "duration_int        0\n",
       "duration_type       3\n",
       "dtype: int64"
      ]
     },
     "execution_count": 13,
     "metadata": {},
     "output_type": "execute_result"
    }
   ],
   "source": [
    "df_netflix.isnull().sum()"
   ]
  },
  {
   "cell_type": "code",
   "execution_count": 14,
   "metadata": {},
   "outputs": [
    {
     "data": {
      "text/plain": [
       "userid       0\n",
       "scored       0\n",
       "timestamp    0\n",
       "movieid      0\n",
       "scoreds      0\n",
       "dtype: int64"
      ]
     },
     "execution_count": 14,
     "metadata": {},
     "output_type": "execute_result"
    }
   ],
   "source": [
    "df_ratings.isnull().sum()"
   ]
  },
  {
   "cell_type": "markdown",
   "metadata": {},
   "source": [
    "**Se analizaran las columnas con valores numericos**"
   ]
  },
  {
   "cell_type": "markdown",
   "metadata": {},
   "source": [
    "Como a la columna 'date_added' no lo toma con formato DATETIME, se convierte."
   ]
  },
  {
   "cell_type": "code",
   "execution_count": 14,
   "metadata": {},
   "outputs": [],
   "source": [
    "df_amazon_prime['date_added'] = pd.to_datetime(df_amazon_prime['date_added'])\n",
    "df_disney_plus['date_added'] = pd.to_datetime(df_disney_plus['date_added'])\n",
    "df_hulu['date_added'] = pd.to_datetime(df_hulu['date_added'])\n",
    "df_netflix['date_added'] = pd.to_datetime(df_netflix['date_added'])"
   ]
  },
  {
   "cell_type": "code",
   "execution_count": 12,
   "metadata": {},
   "outputs": [
    {
     "data": {
      "text/plain": [
       "Timestamp('2021-03-30 00:00:00')"
      ]
     },
     "execution_count": 12,
     "metadata": {},
     "output_type": "execute_result"
    }
   ],
   "source": [
    "df_amazon_prime['date_added'].min()"
   ]
  },
  {
   "cell_type": "code",
   "execution_count": 15,
   "metadata": {},
   "outputs": [
    {
     "data": {
      "text/plain": [
       "Timestamp('2019-10-01 00:00:00')"
      ]
     },
     "execution_count": 15,
     "metadata": {},
     "output_type": "execute_result"
    }
   ],
   "source": [
    "df_disney_plus['date_added'].min()"
   ]
  },
  {
   "cell_type": "code",
   "execution_count": 16,
   "metadata": {},
   "outputs": [
    {
     "data": {
      "text/plain": [
       "Timestamp('2006-07-14 00:00:00')"
      ]
     },
     "execution_count": 16,
     "metadata": {},
     "output_type": "execute_result"
    }
   ],
   "source": [
    "df_hulu['date_added'].min()"
   ]
  },
  {
   "cell_type": "code",
   "execution_count": 6,
   "metadata": {},
   "outputs": [
    {
     "data": {
      "text/plain": [
       "Timestamp('1995-01-09 00:00:00')"
      ]
     },
     "execution_count": 6,
     "metadata": {},
     "output_type": "execute_result"
    }
   ],
   "source": [
    "df_ratings['timestamp'].min()"
   ]
  },
  {
   "cell_type": "markdown",
   "metadata": {},
   "source": [
    "**Se analizaran si hay duplicados**"
   ]
  },
  {
   "cell_type": "code",
   "execution_count": 4,
   "metadata": {},
   "outputs": [
    {
     "data": {
      "text/plain": [
       "False    11013823\n",
       "True        10466\n",
       "dtype: int64"
      ]
     },
     "execution_count": 4,
     "metadata": {},
     "output_type": "execute_result"
    }
   ],
   "source": [
    "df_ratings.duplicated().value_counts()"
   ]
  },
  {
   "cell_type": "markdown",
   "metadata": {},
   "source": [
    "**Se identificaran valores atípicos en la columna \"scored\" del dataframe ratings**"
   ]
  },
  {
   "cell_type": "code",
   "execution_count": 8,
   "metadata": {},
   "outputs": [
    {
     "name": "stdout",
     "output_type": "stream",
     "text": [
      "          userid  scored  timestamp movieid  scoreds\n",
      "0              1     1.0 2015-03-09   as680      3.5\n",
      "24             1     0.5 2015-03-09  as7193      3.5\n",
      "42             2     1.0 1997-06-23  hs1914      3.6\n",
      "43             2     1.0 1997-06-23  as9455      3.5\n",
      "84             4     1.0 2003-01-15  ns3279      3.6\n",
      "...          ...     ...        ...     ...      ...\n",
      "11024167  124373     1.0 2001-05-31  ns7039      3.5\n",
      "11024171  124374     1.0 2001-11-28  ds1361      3.6\n",
      "11024179  124374     1.0 2001-11-28  as9146      3.6\n",
      "11024192  124375     1.0 1996-08-14   hs282      3.4\n",
      "11024218  124376     1.0 2001-04-26  ns5214      3.6\n",
      "\n",
      "[514764 rows x 5 columns]\n"
     ]
    }
   ],
   "source": [
    "q1 = df_ratings['scored'].quantile(0.25)\n",
    "q3 = df_ratings['scored'].quantile(0.75)\n",
    "iqr = q3 - q1\n",
    "\n",
    "# define los límites para los outliers\n",
    "lower_limit = q1 - 1.5 * iqr\n",
    "upper_limit = q3 + 1.5 * iqr\n",
    "\n",
    "# identifica los outliers\n",
    "outliers = df_ratings[(df_ratings['scored'] < lower_limit) | (df_ratings['scored'] > upper_limit)]\n",
    "\n",
    "# muestra los outliers\n",
    "print(outliers)"
   ]
  },
  {
   "cell_type": "markdown",
   "metadata": {},
   "source": [
    "El resultado que te devolvió es un subconjunto de datos de la tabla. En este subconjunto, se han eliminado todas las filas donde los valores de la columna \"scored\" se encuentran fuera del rango intercuartil, lo que sugiere que son posibles valores atípicos o \"outliers\". En otras palabras, estos son los datos que no son atípicos en la columna \"scored\". La tabla resultante tiene 514764 filas y 5 columnas. Cada fila contiene información de un usuario que ha calificado una película, incluyendo el ID del usuario, su calificación (\"scored\"), la fecha en que se hizo la calificación (\"timestamp\"), el ID de la película (\"movieid\") y el promedio de todas las calificaciones para esa película (\"scored\")."
   ]
  },
  {
   "cell_type": "markdown",
   "metadata": {},
   "source": [
    "**CONCLUSIONES EDA**"
   ]
  },
  {
   "cell_type": "markdown",
   "metadata": {},
   "source": [
    "GENERALES (considerando el objetivo y alcance de este proyecto):\n",
    "\n",
    "- Las columnas duration tienen tanto información en minutos como de temporadas\n",
    "\n",
    "- Las columnas cast tienen los actores separados por una coma"
   ]
  },
  {
   "cell_type": "markdown",
   "metadata": {},
   "source": [
    "PARTICULARES"
   ]
  },
  {
   "cell_type": "markdown",
   "metadata": {},
   "source": [
    "1- df_amazon_prime_ETL\n",
    "\n",
    "- separdor ','+ encoding utf-8\n",
    "- cararcteres especiales [ (30)\n",
    "- valores faltantes\n",
    "    + director   2082\n",
    "    + cast       1233\n",
    "    + country    8996\n",
    "    + date_added 9513\n",
    "- 9687 registros\n",
    "- 12 columnas"
   ]
  },
  {
   "cell_type": "markdown",
   "metadata": {},
   "source": [
    "2- df_disney_plus_ETL\n",
    "\n",
    "- separdor ','+ encoding utf-8\n",
    "- cararcteres especiales [ (NO)\n",
    "- valores faltantes\n",
    "    + director      473\n",
    "    + cast          190\n",
    "    + country       219\n",
    "    + date_added    3\n",
    "- 1450 registros\n",
    "- 12 columnas\n"
   ]
  },
  {
   "cell_type": "markdown",
   "metadata": {},
   "source": [
    "3- df_hulu_ETL\n",
    "\n",
    "- separdor ','+ encoding utf-8\n",
    "- cararcteres especiales [ (1)\n",
    "- valores faltantes\n",
    "    + director      3070\n",
    "    + cast          3073\n",
    "    + country       1453\n",
    "    + date_added    28\n",
    "    + description   4\n",
    "    + duration_type 479\n",
    "- 3090 registros\n",
    "- 12 columnas"
   ]
  },
  {
   "cell_type": "markdown",
   "metadata": {},
   "source": [
    "4- df_netflix_ETL\n",
    "\n",
    "- valores faltantes\n",
    "    + director 2634\n",
    "    + cast 825\n",
    "    + country 831\n",
    "    + date_added 10\n",
    "    + duration 3\n",
    "- 8807 registros\n",
    "- 12 columnas"
   ]
  },
  {
   "cell_type": "markdown",
   "metadata": {},
   "source": [
    "5- df_rating_ETL\n",
    "-valores faltantes 0\n",
    "- 11024289 registros\n",
    "- 5 columnas\n",
    "- duplicados 10466\n",
    "\n",
    "Al obtener el primer año de ingreso de la columna 'timestamp' (1995-01-09),se concluyo que es un valor fuera de lo normal dado que las plataformas abrieron años depues. "
   ]
  }
 ],
 "metadata": {
  "kernelspec": {
   "display_name": "Python 3.11.2 64-bit",
   "language": "python",
   "name": "python3"
  },
  "language_info": {
   "codemirror_mode": {
    "name": "ipython",
    "version": 3
   },
   "file_extension": ".py",
   "mimetype": "text/x-python",
   "name": "python",
   "nbconvert_exporter": "python",
   "pygments_lexer": "ipython3",
   "version": "3.11.2"
  },
  "orig_nbformat": 4,
  "vscode": {
   "interpreter": {
    "hash": "b9d1f0f248df2f2363224f3e3a9963e167205723498f8c399a8b5aaef4a34a75"
   }
  }
 },
 "nbformat": 4,
 "nbformat_minor": 2
}
