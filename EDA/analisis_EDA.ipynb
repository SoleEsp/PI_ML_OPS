{
 "cells": [
  {
   "cell_type": "markdown",
   "metadata": {},
   "source": [
    "**`Análisis exploratorio de los datos`**: _(Exploratory Data Analysis-EDA)_"
   ]
  },
  {
   "cell_type": "code",
   "execution_count": null,
   "metadata": {},
   "outputs": [],
   "source": []
  }
 ],
 "metadata": {
  "kernelspec": {
   "display_name": "Python 3.10.8 64-bit",
   "language": "python",
   "name": "python3"
  },
  "language_info": {
   "name": "python",
   "version": "3.10.8"
  },
  "orig_nbformat": 4,
  "vscode": {
   "interpreter": {
    "hash": "84b86b11baa98e9a5bbcafa47a9ec1d554dfb6b313b7cee3eab0f92862da9eaf"
   }
  }
 },
 "nbformat": 4,
 "nbformat_minor": 2
}
