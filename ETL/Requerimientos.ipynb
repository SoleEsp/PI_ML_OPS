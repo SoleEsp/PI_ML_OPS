{
 "cells": [
  {
   "cell_type": "markdown",
   "metadata": {},
   "source": [
    "**TRANSFORMACIONES**"
   ]
  },
  {
   "cell_type": "markdown",
   "metadata": {},
   "source": [
    "Importamos las librerias que vamos a necesitar"
   ]
  },
  {
   "cell_type": "code",
   "execution_count": 2,
   "metadata": {},
   "outputs": [],
   "source": [
    "import pandas as pd"
   ]
  },
  {
   "cell_type": "markdown",
   "metadata": {},
   "source": [
    "1- Generar campo **`id`**: Cada id se compondrá de la primera letra del nombre de la plataforma, seguido del show_id ya presente en los datasets (ejemplo para títulos de Amazon = **`as123`**)"
   ]
  },
  {
   "cell_type": "markdown",
   "metadata": {},
   "source": [
    "Primero cargamos los archivos .cvs como dataframe con pandas"
   ]
  },
  {
   "cell_type": "code",
   "execution_count": 3,
   "metadata": {},
   "outputs": [],
   "source": [
    "df_amazon_prime = pd.read_csv('../dataset/amazon_prime_titles.csv',delimiter = ',',encoding = \"utf-8\")\n",
    "#df_amazon_prime.head()"
   ]
  },
  {
   "cell_type": "code",
   "execution_count": 4,
   "metadata": {},
   "outputs": [],
   "source": [
    "df_disney_plus = pd.read_csv('../dataset/disney_plus_titles.csv',delimiter= ',', encoding = \"utf-8\" )\n",
    "#df_disney_plus.head(10)"
   ]
  },
  {
   "cell_type": "code",
   "execution_count": 5,
   "metadata": {},
   "outputs": [],
   "source": [
    "df_hulu = pd.read_csv('../dataset/hulu_titles.csv',delimiter= ',', encoding = \"utf-8\" )\n",
    "#df_hulu.head(10)"
   ]
  },
  {
   "cell_type": "code",
   "execution_count": 6,
   "metadata": {},
   "outputs": [],
   "source": [
    "df_netflix = pd.read_csv('../dataset/netflix_titles.csv',delimiter= ',', encoding = \"utf-8\" )\n",
    "#df_netflix.head(10)"
   ]
  },
  {
   "cell_type": "code",
   "execution_count": 7,
   "metadata": {},
   "outputs": [],
   "source": [
    "df_rating1 = pd.read_csv('../dataset/rating/1.csv',delimiter = ',',encoding = \"utf-8\")\n",
    "#df_rating1.head(10)"
   ]
  },
  {
   "cell_type": "code",
   "execution_count": 8,
   "metadata": {},
   "outputs": [],
   "source": [
    "df_rating2 = pd.read_csv('../dataset/rating/2.csv',delimiter = ',',encoding = \"utf-8\")\n",
    "#df_rating2.head(10)"
   ]
  },
  {
   "cell_type": "code",
   "execution_count": 9,
   "metadata": {},
   "outputs": [],
   "source": [
    "df_rating3 = pd.read_csv('../dataset/rating/3.csv',delimiter = ',',encoding = \"utf-8\")\n",
    "#df_rating3.head(10)"
   ]
  },
  {
   "cell_type": "code",
   "execution_count": 10,
   "metadata": {},
   "outputs": [],
   "source": [
    "df_rating4 = pd.read_csv('../dataset/rating/4.csv',delimiter = ',',encoding = \"utf-8\")\n",
    "#df_rating4.head(10)"
   ]
  },
  {
   "cell_type": "code",
   "execution_count": 11,
   "metadata": {},
   "outputs": [],
   "source": [
    "df_rating5 = pd.read_csv('../dataset/rating/5.csv',delimiter = ',',encoding = \"utf-8\")\n",
    "#df_rating5.head(10)"
   ]
  },
  {
   "cell_type": "code",
   "execution_count": 12,
   "metadata": {},
   "outputs": [],
   "source": [
    "df_rating6 = pd.read_csv('../dataset/rating/6.csv',delimiter = ',',encoding = \"utf-8\")\n",
    "#df_rating6.head(10)"
   ]
  },
  {
   "cell_type": "code",
   "execution_count": 13,
   "metadata": {},
   "outputs": [],
   "source": [
    "df_rating7 = pd.read_csv('../dataset/rating/7.csv',delimiter = ',',encoding = \"utf-8\")\n",
    "#df_rating7.head(10)"
   ]
  },
  {
   "cell_type": "code",
   "execution_count": 14,
   "metadata": {},
   "outputs": [],
   "source": [
    "df_rating8 = pd.read_csv('../dataset/rating/8.csv',delimiter = ',',encoding = \"utf-8\")\n",
    "#df_rating8.head(10)"
   ]
  },
  {
   "cell_type": "markdown",
   "metadata": {},
   "source": [
    "Generamos el campo id de cada dataframe de plataforma"
   ]
  },
  {
   "cell_type": "code",
   "execution_count": 15,
   "metadata": {},
   "outputs": [],
   "source": [
    "df_amazon_prime = df_amazon_prime.assign(id='a' + df_amazon_prime['show_id'].astype(str))\n",
    "#df_amazon_prime.head()"
   ]
  },
  {
   "cell_type": "code",
   "execution_count": 16,
   "metadata": {},
   "outputs": [],
   "source": [
    "df_disney_plus = df_disney_plus.assign(id='d' + df_disney_plus['show_id'].astype(str))\n",
    "#df_disney_plus.head()"
   ]
  },
  {
   "cell_type": "code",
   "execution_count": 17,
   "metadata": {},
   "outputs": [],
   "source": [
    "df_hulu = df_hulu.assign(id='h' + df_hulu['show_id'].astype(str))\n",
    "#df_hulu.head()"
   ]
  },
  {
   "cell_type": "code",
   "execution_count": 18,
   "metadata": {},
   "outputs": [],
   "source": [
    "df_netflix = df_netflix.assign(id='n' + df_netflix['show_id'].astype(str))\n",
    "#df_netflix.head()"
   ]
  },
  {
   "cell_type": "markdown",
   "metadata": {},
   "source": [
    "2- Los valores nulos del campo rating deberán reemplazarse por el string “**`G`**” (corresponde al maturity rating: “general for all audiences”"
   ]
  },
  {
   "cell_type": "code",
   "execution_count": 19,
   "metadata": {},
   "outputs": [],
   "source": [
    "df_amazon_prime.fillna(value={'rating': 'G'}, inplace=True)"
   ]
  },
  {
   "cell_type": "code",
   "execution_count": 20,
   "metadata": {},
   "outputs": [],
   "source": [
    "df_disney_plus.fillna(value={'rating': 'G'}, inplace=True)"
   ]
  },
  {
   "cell_type": "code",
   "execution_count": 21,
   "metadata": {},
   "outputs": [],
   "source": [
    "df_hulu.fillna(value={'rating': 'G'}, inplace=True)"
   ]
  },
  {
   "cell_type": "code",
   "execution_count": 22,
   "metadata": {},
   "outputs": [],
   "source": [
    "df_netflix.fillna(value={'rating': 'G'}, inplace=True)"
   ]
  },
  {
   "cell_type": "code",
   "execution_count": null,
   "metadata": {},
   "outputs": [],
   "source": [
    "# Verificacion de nulos en la columna 'rating'\n",
    "print(df_amazon_prime['rating'].isnull().sum())\n",
    "print(df_disney_plus['rating'].isnull().sum())\n",
    "print(df_hulu['rating'].isnull().sum())\n",
    "print(df_netflix['rating'].isnull().sum())"
   ]
  },
  {
   "cell_type": "markdown",
   "metadata": {},
   "source": [
    "3- De haber fechas, deberán tener el formato **`AAAA-mm-dd`**"
   ]
  },
  {
   "cell_type": "code",
   "execution_count": 23,
   "metadata": {},
   "outputs": [],
   "source": [
    "# se seleciona la columna del dataframe y con la funcion to_datetime cambiamos el formato\n",
    "# luego convertimos la columna a tipo DATATIME\n",
    "df_amazon_prime['date_added'] = pd.to_datetime(df_amazon_prime['date_added'].astype(str), format='%B %d, %Y')"
   ]
  },
  {
   "cell_type": "code",
   "execution_count": 25,
   "metadata": {},
   "outputs": [],
   "source": [
    "df_disney_plus['date_added'] = pd.to_datetime(df_disney_plus['date_added'].astype(str), format='%B %d, %Y')"
   ]
  },
  {
   "cell_type": "code",
   "execution_count": 26,
   "metadata": {},
   "outputs": [],
   "source": [
    "df_hulu['date_added'] = pd.to_datetime(df_hulu['date_added'].astype(str), format='%B %d, %Y')"
   ]
  },
  {
   "cell_type": "code",
   "execution_count": 27,
   "metadata": {},
   "outputs": [],
   "source": [
    "# antes de convertir al formato pedido se elimino el espacio en blanco de cada texto de la columna 'date_added' porque en este dataframe no dejaba realizar la conversion\n",
    "df_netflix['date_added'] = df_netflix['date_added'].str.lstrip() \n",
    "df_netflix['date_added'] = pd.to_datetime(df_netflix['date_added'].astype(str), format='%B %d, %Y')\n",
    "#df_netflix.head()"
   ]
  },
  {
   "cell_type": "code",
   "execution_count": 28,
   "metadata": {},
   "outputs": [],
   "source": [
    "df_rating1['timestamp'] = pd.to_datetime(pd.to_datetime(df_rating1['timestamp'],unit='s').dt.strftime('%Y-%m-%d'))\n",
    "#df_rating1.head()"
   ]
  },
  {
   "cell_type": "code",
   "execution_count": 29,
   "metadata": {},
   "outputs": [],
   "source": [
    "df_rating2['timestamp'] = pd.to_datetime(pd.to_datetime(df_rating2['timestamp'],unit='s').dt.strftime('%Y-%m-%d'))\n",
    "#df_rating2.head()"
   ]
  },
  {
   "cell_type": "code",
   "execution_count": null,
   "metadata": {},
   "outputs": [],
   "source": [
    "df_rating3['timestamp'] = pd.to_datetime(pd.to_datetime(df_rating3['timestamp'],unit='s').dt.strftime('%Y-%m-%d'))\n",
    "df_rating3.head()"
   ]
  },
  {
   "cell_type": "code",
   "execution_count": null,
   "metadata": {},
   "outputs": [],
   "source": [
    "df_rating4['timestamp'] = pd.to_datetime(pd.to_datetime(df_rating4['timestamp'],unit='s').dt.strftime('%Y-%m-%d'))\n",
    "df_rating4.head()"
   ]
  },
  {
   "cell_type": "code",
   "execution_count": 32,
   "metadata": {},
   "outputs": [],
   "source": [
    "df_rating5['timestamp'] = pd.to_datetime(pd.to_datetime(df_rating5['timestamp'],unit='s').dt.strftime('%Y-%m-%d'))\n",
    "#df_rating5.head()"
   ]
  },
  {
   "cell_type": "code",
   "execution_count": 33,
   "metadata": {},
   "outputs": [],
   "source": [
    "df_rating6['timestamp'] = pd.to_datetime(pd.to_datetime(df_rating6['timestamp'],unit='s').dt.strftime('%Y-%m-%d'))\n",
    "#df_rating6.head()"
   ]
  },
  {
   "cell_type": "code",
   "execution_count": 34,
   "metadata": {},
   "outputs": [],
   "source": [
    "df_rating7['timestamp'] = pd.to_datetime(pd.to_datetime(df_rating7['timestamp'],unit='s').dt.strftime('%Y-%m-%d'))\n",
    "#df_rating7.head()"
   ]
  },
  {
   "cell_type": "code",
   "execution_count": 35,
   "metadata": {},
   "outputs": [],
   "source": [
    "df_rating8['timestamp'] = pd.to_datetime(pd.to_datetime(df_rating8['timestamp'],unit='s').dt.strftime('%Y-%m-%d'))\n",
    "#df_rating8.head()"
   ]
  },
  {
   "cell_type": "code",
   "execution_count": null,
   "metadata": {},
   "outputs": [],
   "source": [
    "#Verificacion de cambio de formato\n",
    "df_amazon_prime.head()\n",
    "#df_disney_plus.head()\n",
    "#df_hulu.head()\n",
    "#df_netflix.head()"
   ]
  },
  {
   "cell_type": "markdown",
   "metadata": {},
   "source": [
    "4- Los campos de texto deberán estar en **minúsculas**, sin excepciones"
   ]
  },
  {
   "cell_type": "markdown",
   "metadata": {},
   "source": [
    "Se recorrera todo el dataframe y donde haya un string se pasaran todas a minusculas"
   ]
  },
  {
   "cell_type": "code",
   "execution_count": 40,
   "metadata": {},
   "outputs": [],
   "source": [
    "df_amazon_prime = df_amazon_prime.applymap(lambda x: x.lower() if type(x) == str else x)\n",
    "#df_amazon_prime.head()"
   ]
  },
  {
   "cell_type": "code",
   "execution_count": 43,
   "metadata": {},
   "outputs": [],
   "source": [
    "df_disney_plus = df_disney_plus.applymap(lambda x: x.lower() if type(x) == str else x)\n",
    "#df_disney_plus.head()"
   ]
  },
  {
   "cell_type": "code",
   "execution_count": 42,
   "metadata": {},
   "outputs": [],
   "source": [
    "df_hulu = df_hulu.applymap(lambda x: x.lower() if type(x) == str else x)\n",
    "#df_hulu.head()"
   ]
  },
  {
   "cell_type": "code",
   "execution_count": 44,
   "metadata": {},
   "outputs": [],
   "source": [
    "df_netflix = df_netflix.applymap(lambda x: x.lower() if type(x) == str else x)\n",
    "#df_netflix.head()"
   ]
  },
  {
   "cell_type": "markdown",
   "metadata": {},
   "source": [
    "5- El campo ***duration*** debe convierte en dos campos: **`duration_int`** y **`duration_type`**. El primero será un integer y el segundo un string indicando la unidad de medición de duración: min (minutos) o season (temporadas)\n"
   ]
  },
  {
   "cell_type": "code",
   "execution_count": null,
   "metadata": {},
   "outputs": [],
   "source": [
    "df_amazon_prime['duration_int'] = df_amazon_prime['duration'].str.extract('(\\d+)').astype(int)\n",
    "df_amazon_prime['duration_type'] = df_amazon_prime['duration'].str.extract('([a-zA-Z]+)').replace('seasons', 'season')\n",
    "#df_amazon_prime.head(200)"
   ]
  },
  {
   "cell_type": "code",
   "execution_count": 53,
   "metadata": {},
   "outputs": [],
   "source": [
    "df_disney_plus['duration_int'] = df_disney_plus['duration'].str.extract('(\\d+)').astype(int)\n",
    "df_disney_plus['duration_type'] = df_disney_plus['duration'].str.extract('([a-zA-Z]+)').replace('seasons', 'season')\n",
    "#df_disney_plus.head()"
   ]
  },
  {
   "cell_type": "code",
   "execution_count": 54,
   "metadata": {},
   "outputs": [],
   "source": [
    "df_hulu['duration_int'] = df_hulu['duration'].str.extract('(\\d+)').fillna(0).astype(int)\n",
    "df_hulu['duration_type'] = df_hulu['duration'].str.extract('([a-zA-Z]+)').replace('seasons', 'season')\n",
    "#df_hulu.head()"
   ]
  },
  {
   "cell_type": "code",
   "execution_count": 55,
   "metadata": {},
   "outputs": [],
   "source": [
    "df_netflix['duration_int'] = df_netflix['duration'].str.extract('(\\d+)').fillna(0).astype(int)\n",
    "df_netflix['duration_type'] = df_netflix['duration'].str.extract('([a-zA-Z]+)').replace('seasons', 'season')\n",
    "#df_netflix.head()"
   ]
  },
  {
   "cell_type": "markdown",
   "metadata": {},
   "source": [
    "Para no tener datos repetidos se elimino la columna de **'duration'** de cada dataframe"
   ]
  },
  {
   "cell_type": "code",
   "execution_count": 57,
   "metadata": {},
   "outputs": [],
   "source": [
    "df_amazon_prime.drop('duration', axis=1, inplace=True)\n",
    "df_disney_plus.drop('duration',axis=1, inplace=True)\n",
    "df_hulu.drop('duration',axis=1, inplace=True)\n",
    "df_netflix.drop('duration',axis=1, inplace=True)"
   ]
  },
  {
   "cell_type": "markdown",
   "metadata": {},
   "source": [
    "Se pasa a un csv con las trasformaciones realizadas.\n",
    "Se sigue trabajando con las plataformas individualmente para agilizar la carga y busqueda de datos"
   ]
  },
  {
   "cell_type": "code",
   "execution_count": 59,
   "metadata": {},
   "outputs": [],
   "source": [
    "df_amazon_prime.to_csv('../dataset_ETL/amazon_prime_ETL.csv',index=False)\n",
    "df_disney_plus.to_csv('../dataset_ETL/disney_plus_ETL.csv', index=False)\n",
    "df_hulu.to_csv('../dataset_ETL/hulu_ETL.csv', index=False)\n",
    "df_netflix.to_csv('../dataset_ETL/netflix_ETL.csv',index=False)"
   ]
  },
  {
   "cell_type": "markdown",
   "metadata": {},
   "source": [
    "Se unen los dataset de rating en un solo csv"
   ]
  },
  {
   "cell_type": "code",
   "execution_count": null,
   "metadata": {},
   "outputs": [],
   "source": [
    "df_ratings = pd.concat([df_rating1, df_rating2, df_rating3, df_rating4,df_rating5, df_rating6,df_rating7, df_rating8])\n",
    "df_ratings.head()"
   ]
  },
  {
   "cell_type": "markdown",
   "metadata": {},
   "source": [
    "**DESARROLLO API**"
   ]
  },
  {
   "cell_type": "markdown",
   "metadata": {},
   "source": [
    "1- Funcion que calcula la Película con mayor duración con filtros opcionales de AÑO, PLATAFORMA Y TIPO DE DURACIÓN. (la función debe llamarse get_max_duration(year, platform, duration_type))"
   ]
  },
  {
   "cell_type": "code",
   "execution_count": 63,
   "metadata": {},
   "outputs": [],
   "source": [
    "# diccionario de nombres de archivo CSV para cada plataforma para aglizar la busqueda de valores\n",
    "dataframe = {\n",
    "        'Netflix': df_netflix,\n",
    "        'Amazon': df_amazon_prime,\n",
    "        'disney': df_disney_plus,\n",
    "        'Hulu': df_hulu\n",
    "    }"
   ]
  },
  {
   "cell_type": "code",
   "execution_count": null,
   "metadata": {},
   "outputs": [
    {
     "name": "stdout",
     "output_type": "stream",
     "text": [
      "Titulo:  dory's reef cam\n"
     ]
    }
   ],
   "source": [
    "def get_max_duration(year, platform, duration_type):\n",
    "\n",
    "    if platform not in dataframe:\n",
    "        return f'La plataforma \"{platform}\" no es válida. Las plataformas válidas son: Netflix, Disney, Amazon, Hulu.'\n",
    "    \n",
    "    #selecciona el csv segun la plataforma ingresada\n",
    "    selected_df = dataframe[platform]\n",
    "    \n",
    "    if duration_type not in ['min', 'season']:\n",
    "        return f'Por favor ingrese alguno de los siguientes valores correctos\\n duration_type: min o season'\n",
    "    \n",
    "    #se filtra el dataframe segun el año y tipo de duracion\n",
    "    selected_movies = selected_df.loc[(selected_df[\"release_year\"] == year) & (selected_df[\"duration_type\"] == duration_type)]\n",
    "\n",
    "    if selected_movies.empty:\n",
    "        return f\"No hay resultados para el año {year}. Intente con otro año.\"\n",
    "    \n",
    "    #se selecciona la pelicula, serie o tv_show con mayor duracion        \n",
    "    max_duration_movie = selected_movies.loc[selected_movies[\"duration_int\"].idxmax()]['title']\n",
    "\n",
    "    return f'Titulo: {max_duration_movie}'\n",
    "\n",
    "get_max_duration(2020,'disney','min')"
   ]
  },
  {
   "cell_type": "markdown",
   "metadata": {},
   "source": [
    "2- Cantidad de películas por plataforma con un puntaje mayor a XX en determinado año (la función debe llamarse get_score_count(platform, scored, year))\n"
   ]
  },
  {
   "cell_type": "markdown",
   "metadata": {},
   "source": [
    "Para esta función es necesario crear una columna 'scored' en el dataframe df_ratings y luego relacionar ese dataframe con lo csv de plataforma. Para esta ocasión se uniran los csv de las plataformas."
   ]
  },
  {
   "cell_type": "code",
   "execution_count": null,
   "metadata": {},
   "outputs": [],
   "source": [
    "df_ratings.head(100)"
   ]
  },
  {
   "cell_type": "code",
   "execution_count": null,
   "metadata": {},
   "outputs": [],
   "source": [
    "import pandasql as sqldf\n",
    "def get_score_count(plataforma: str, puntaje: int, year: int):\n",
    "    \n",
    "    #Defino las plataformas:\n",
    "    if plataforma == \"amazon\":\n",
    "        plat = \"a%\"\n",
    "    elif plataforma == \"disney\":\n",
    "        plat = \"d%\"\n",
    "    elif plataforma == \"hulu\":\n",
    "        plat = \"h%\"\n",
    "    elif plataforma == \"netflix\":\n",
    "        plat = \"n%\"\n",
    "    else:\n",
    "        return (\"Plataforma incorrecta. Las opciones son: amazon, disney, hulu, netflix. Recuerde escribir todo en minúsculas.\")\n",
    "\n",
    "    #QUERY:\n",
    "    query = f\"SELECT COUNT(title) FROM df WHERE id LIKE '{plat}' AND type == 'movie' AND rating_x > {puntaje} AND release_year == {year}\"\n",
    "    #Se guarda el resultado en una nueva variable, dándole el formato sql:\n",
    "    result = sqldf.run(query)"
   ]
  },
  {
   "cell_type": "markdown",
   "metadata": {},
   "source": [
    "3- Cantidad de películas por plataforma con filtro de PLATAFORMA. (La función debe llamarse get_count_platform(platform))"
   ]
  },
  {
   "cell_type": "code",
   "execution_count": null,
   "metadata": {},
   "outputs": [
    {
     "data": {
      "text/plain": [
       "6131"
      ]
     },
     "execution_count": 297,
     "metadata": {},
     "output_type": "execute_result"
    }
   ],
   "source": [
    "def get_count_platform(platform):\n",
    "    \n",
    "    if platform not in dataframe:\n",
    "        return print(f'La plataforma \"{platform}\" no es válida. Las plataformas válidas son: Netflix, Disney, Amazon, Hulu.')\n",
    "    \n",
    "    selected_df = dataframe[platform]\n",
    "    movie = selected_df[selected_df['type'] == 'movie']\n",
    "    \n",
    "    return movie.shape[0]\n",
    "get_count_platform('Netflix')"
   ]
  },
  {
   "cell_type": "markdown",
   "metadata": {},
   "source": [
    "4- Funcion que devuelve el Actor que más se repite según plataforma y año. (La función debe llamarse get_actor(platform, year))\n"
   ]
  },
  {
   "cell_type": "markdown",
   "metadata": {},
   "source": [
    "Ls siguiente funcion muestra el primer actor que mas se repide en la columna **'cast'**, y si hay mas de un actor devuelve el primero que aparece en la lista donde guarda los actores que mas se repiten"
   ]
  },
  {
   "cell_type": "code",
   "execution_count": 90,
   "metadata": {},
   "outputs": [
    {
     "data": {
      "text/plain": [
       "'Actor: anushka shetty, Cantidad de veces repetida: 7'"
      ]
     },
     "execution_count": 90,
     "metadata": {},
     "output_type": "execute_result"
    }
   ],
   "source": [
    "def get_actor(platform, year):\n",
    "    if platform not in dataframe:\n",
    "        return f'La plataforma \"{platform}\" no es válida. Las plataformas válidas son: Netflix, Disney, Amazon, Hulu.'\n",
    "    \n",
    "    selected_df = dataframe[platform]\n",
    "    \n",
    "    # Seleccionar solo los registros del año especificado\n",
    "    df_year = selected_df[selected_df['release_year'] == year]\n",
    "    \n",
    "    if df_year.empty:\n",
    "        print(f\"No se encontraron resultados para el año {year}. Intente con otro año.\")\n",
    "        return None\n",
    "    \n",
    "    # Dividir los nombres de los actores en una lista y contar las ocurrencias de cada uno\n",
    "    actor_counts = df_year['cast'].str.split(',').explode().str.strip().value_counts()\n",
    "    \n",
    "    # Devolver el nombre del actor más frecuente\n",
    "    most_frequent_actor = actor_counts.index[0]\n",
    "\n",
    "    return  f\"Actor: {most_frequent_actor}, Cantidad de veces repetida: {actor_counts[most_frequent_actor]}\"\n",
    "get_actor('Amazon',2020)"
   ]
  }
 ],
 "metadata": {
  "kernelspec": {
   "display_name": "Python 3.10.8 64-bit",
   "language": "python",
   "name": "python3"
  },
  "language_info": {
   "codemirror_mode": {
    "name": "ipython",
    "version": 3
   },
   "file_extension": ".py",
   "mimetype": "text/x-python",
   "name": "python",
   "nbconvert_exporter": "python",
   "pygments_lexer": "ipython3",
   "version": "3.10.8"
  },
  "orig_nbformat": 4,
  "vscode": {
   "interpreter": {
    "hash": "84b86b11baa98e9a5bbcafa47a9ec1d554dfb6b313b7cee3eab0f92862da9eaf"
   }
  }
 },
 "nbformat": 4,
 "nbformat_minor": 2
}
